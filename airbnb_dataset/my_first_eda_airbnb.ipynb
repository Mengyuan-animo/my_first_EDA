{
 "cells": [
  {
   "cell_type": "markdown",
   "metadata": {},
   "source": [
    "# Exploratory data analysis (EDA) - Airbnb Prices in Barcelona and Berlin"
   ]
  },
  {
   "cell_type": "markdown",
   "metadata": {
    "tags": [
     "5_min"
    ]
   },
   "source": [
    "## Introduction\n",
    "<p>Airbnb is an online platform for people to rent places to stay which is very popular and a good alternative comparing with trational hotels. People could rent the entire home or just a room with the hosts. \n",
    "\n",
    "<p>The datasets I'm going to explore are airbnb dataset of year 2023 of Barcelona and Berlin. Let's discover what insights I could get from there."
   ]
  },
  {
   "cell_type": "markdown",
   "metadata": {},
   "source": [
    "## Load the data"
   ]
  },
  {
   "cell_type": "code",
   "execution_count": 291,
   "metadata": {},
   "outputs": [],
   "source": [
    "import pandas as pd\n",
    "from matplotlib import pyplot as plt\n",
    "import seaborn as sns\n",
    "import folium\n",
    "import numpy as np"
   ]
  },
  {
   "cell_type": "code",
   "execution_count": 292,
   "metadata": {},
   "outputs": [],
   "source": [
    "df_bcn = pd.read_csv('data/airbnb_bcn.csv')\n",
    "df_ber = pd.read_csv('data/airbnb_ber.csv')"
   ]
  },
  {
   "cell_type": "markdown",
   "metadata": {},
   "source": [
    "#### Let's check the datasets."
   ]
  },
  {
   "cell_type": "code",
   "execution_count": 293,
   "metadata": {
    "scrolled": true
   },
   "outputs": [
    {
     "name": "stdout",
     "output_type": "stream",
     "text": [
      "(18321, 18)\n",
      "(13327, 18)\n"
     ]
    }
   ],
   "source": [
    "print(df_bcn.shape)\n",
    "print(df_ber.shape)"
   ]
  },
  {
   "cell_type": "code",
   "execution_count": 294,
   "metadata": {},
   "outputs": [
    {
     "name": "stdout",
     "output_type": "stream",
     "text": [
      "Index(['id', 'name', 'host_id', 'host_name', 'neighbourhood_group',\n",
      "       'neighbourhood', 'latitude', 'longitude', 'room_type', 'price',\n",
      "       'minimum_nights', 'number_of_reviews', 'last_review',\n",
      "       'reviews_per_month', 'calculated_host_listings_count',\n",
      "       'availability_365', 'number_of_reviews_ltm', 'license'],\n",
      "      dtype='object')\n",
      "Index(['id', 'name', 'host_id', 'host_name', 'neighbourhood_group',\n",
      "       'neighbourhood', 'latitude', 'longitude', 'room_type', 'price',\n",
      "       'minimum_nights', 'number_of_reviews', 'last_review',\n",
      "       'reviews_per_month', 'calculated_host_listings_count',\n",
      "       'availability_365', 'number_of_reviews_ltm', 'license'],\n",
      "      dtype='object')\n"
     ]
    }
   ],
   "source": [
    "print(df_bcn.columns)\n",
    "print(df_ber.columns)"
   ]
  },
  {
   "cell_type": "markdown",
   "metadata": {},
   "source": [
    "* As later we are going to combine these 2 datasets, so let's add one column with city's name."
   ]
  },
  {
   "cell_type": "code",
   "execution_count": 295,
   "metadata": {},
   "outputs": [],
   "source": [
    "\n",
    "df_bcn['city'] = 'Barcelona'\n",
    "df_ber['city'] = 'Berlin'"
   ]
  },
  {
   "cell_type": "code",
   "execution_count": 296,
   "metadata": {},
   "outputs": [
    {
     "data": {
      "text/plain": [
       "Index(['id', 'name', 'host_id', 'host_name', 'neighbourhood_group',\n",
       "       'neighbourhood', 'latitude', 'longitude', 'room_type', 'price',\n",
       "       'minimum_nights', 'number_of_reviews', 'last_review',\n",
       "       'reviews_per_month', 'calculated_host_listings_count',\n",
       "       'availability_365', 'number_of_reviews_ltm', 'license', 'city'],\n",
       "      dtype='object')"
      ]
     },
     "execution_count": 296,
     "metadata": {},
     "output_type": "execute_result"
    }
   ],
   "source": [
    "df_bcn.columns"
   ]
  },
  {
   "cell_type": "code",
   "execution_count": 297,
   "metadata": {},
   "outputs": [
    {
     "data": {
      "text/plain": [
       "Index(['id', 'name', 'host_id', 'host_name', 'neighbourhood_group',\n",
       "       'neighbourhood', 'latitude', 'longitude', 'room_type', 'price',\n",
       "       'minimum_nights', 'number_of_reviews', 'last_review',\n",
       "       'reviews_per_month', 'calculated_host_listings_count',\n",
       "       'availability_365', 'number_of_reviews_ltm', 'license', 'city'],\n",
       "      dtype='object')"
      ]
     },
     "execution_count": 297,
     "metadata": {},
     "output_type": "execute_result"
    }
   ],
   "source": [
    "df_ber.columns"
   ]
  },
  {
   "cell_type": "markdown",
   "metadata": {},
   "source": [
    "## Clean the data"
   ]
  },
  {
   "cell_type": "markdown",
   "metadata": {},
   "source": [
    "* The idea is to clean the 2 datasets separately, then combine them together."
   ]
  },
  {
   "cell_type": "markdown",
   "metadata": {},
   "source": [
    "#### 1. Let's check if there is any duplicated rows in dataset of Barcelona."
   ]
  },
  {
   "cell_type": "code",
   "execution_count": 298,
   "metadata": {},
   "outputs": [
    {
     "data": {
      "text/plain": [
       "0"
      ]
     },
     "execution_count": 298,
     "metadata": {},
     "output_type": "execute_result"
    }
   ],
   "source": [
    "df_bcn.duplicated().sum()"
   ]
  },
  {
   "cell_type": "markdown",
   "metadata": {},
   "source": [
    "#### 2. Let's check the NaN values in dataset of Barcelona."
   ]
  },
  {
   "cell_type": "code",
   "execution_count": 299,
   "metadata": {},
   "outputs": [
    {
     "data": {
      "text/plain": [
       "id                                   0\n",
       "name                                 0\n",
       "host_id                              0\n",
       "host_name                            2\n",
       "neighbourhood_group                  0\n",
       "neighbourhood                        0\n",
       "latitude                             0\n",
       "longitude                            0\n",
       "room_type                            0\n",
       "price                             2265\n",
       "minimum_nights                       0\n",
       "number_of_reviews                    0\n",
       "last_review                       4369\n",
       "reviews_per_month                 4369\n",
       "calculated_host_listings_count       0\n",
       "availability_365                     0\n",
       "number_of_reviews_ltm                0\n",
       "license                           5917\n",
       "city                                 0\n",
       "dtype: int64"
      ]
     },
     "execution_count": 299,
     "metadata": {},
     "output_type": "execute_result"
    }
   ],
   "source": [
    "df_bcn.isna().sum()"
   ]
  },
  {
   "cell_type": "markdown",
   "metadata": {},
   "source": [
    "* As the amount of nan values of price is very large, to avoid affect the result of analysis, will fill with mean value."
   ]
  },
  {
   "cell_type": "code",
   "execution_count": 300,
   "metadata": {},
   "outputs": [],
   "source": [
    "mean_bcn_price = np.mean(df_bcn['price'])"
   ]
  },
  {
   "cell_type": "code",
   "execution_count": 301,
   "metadata": {},
   "outputs": [],
   "source": [
    "df_bcn['price'].fillna(mean_bcn_price, inplace=True)"
   ]
  },
  {
   "cell_type": "code",
   "execution_count": 302,
   "metadata": {},
   "outputs": [
    {
     "data": {
      "text/plain": [
       "id                                   0\n",
       "name                                 0\n",
       "host_id                              0\n",
       "host_name                            2\n",
       "neighbourhood_group                  0\n",
       "neighbourhood                        0\n",
       "latitude                             0\n",
       "longitude                            0\n",
       "room_type                            0\n",
       "price                                0\n",
       "minimum_nights                       0\n",
       "number_of_reviews                    0\n",
       "last_review                       4369\n",
       "reviews_per_month                 4369\n",
       "calculated_host_listings_count       0\n",
       "availability_365                     0\n",
       "number_of_reviews_ltm                0\n",
       "license                           5917\n",
       "city                                 0\n",
       "dtype: int64"
      ]
     },
     "execution_count": 302,
     "metadata": {},
     "output_type": "execute_result"
    }
   ],
   "source": [
    "df_bcn.isna().sum()"
   ]
  },
  {
   "cell_type": "markdown",
   "metadata": {},
   "source": [
    "* To fill nan value of host_name."
   ]
  },
  {
   "cell_type": "code",
   "execution_count": 303,
   "metadata": {},
   "outputs": [],
   "source": [
    "df_bcn['host_name'].fillna('no info', inplace=True)"
   ]
  },
  {
   "cell_type": "code",
   "execution_count": 304,
   "metadata": {},
   "outputs": [
    {
     "data": {
      "text/plain": [
       "id                                   0\n",
       "name                                 0\n",
       "host_id                              0\n",
       "host_name                            0\n",
       "neighbourhood_group                  0\n",
       "neighbourhood                        0\n",
       "latitude                             0\n",
       "longitude                            0\n",
       "room_type                            0\n",
       "price                                0\n",
       "minimum_nights                       0\n",
       "number_of_reviews                    0\n",
       "last_review                       4369\n",
       "reviews_per_month                 4369\n",
       "calculated_host_listings_count       0\n",
       "availability_365                     0\n",
       "number_of_reviews_ltm                0\n",
       "license                           5917\n",
       "city                                 0\n",
       "dtype: int64"
      ]
     },
     "execution_count": 304,
     "metadata": {},
     "output_type": "execute_result"
    }
   ],
   "source": [
    "df_bcn.isna().sum()"
   ]
  },
  {
   "cell_type": "markdown",
   "metadata": {},
   "source": [
    "<p>* Now let's deal with the nan values in columns 'last_view' and 'reviews_per_month'. As last_review is not closely related to the goal of the analysis, so we interpolate the missing value.\n",
    "<p>* After checking 'number_of_reviews_ltm', the values are 0 for the missing values of column 'reviews_per_month', so we just fill 0 for nan values of 'reviews_per_month'. "
   ]
  },
  {
   "cell_type": "code",
   "execution_count": 305,
   "metadata": {},
   "outputs": [
    {
     "data": {
      "text/html": [
       "<div>\n",
       "<style scoped>\n",
       "    .dataframe tbody tr th:only-of-type {\n",
       "        vertical-align: middle;\n",
       "    }\n",
       "\n",
       "    .dataframe tbody tr th {\n",
       "        vertical-align: top;\n",
       "    }\n",
       "\n",
       "    .dataframe thead th {\n",
       "        text-align: right;\n",
       "    }\n",
       "</style>\n",
       "<table border=\"1\" class=\"dataframe\">\n",
       "  <thead>\n",
       "    <tr style=\"text-align: right;\">\n",
       "      <th></th>\n",
       "      <th>last_review</th>\n",
       "      <th>reviews_per_month</th>\n",
       "      <th>number_of_reviews_ltm</th>\n",
       "    </tr>\n",
       "  </thead>\n",
       "  <tbody>\n",
       "    <tr>\n",
       "      <th>0</th>\n",
       "      <td>2023-12-04</td>\n",
       "      <td>0.16</td>\n",
       "      <td>9</td>\n",
       "    </tr>\n",
       "    <tr>\n",
       "      <th>1</th>\n",
       "      <td>2023-11-07</td>\n",
       "      <td>0.31</td>\n",
       "      <td>7</td>\n",
       "    </tr>\n",
       "    <tr>\n",
       "      <th>2</th>\n",
       "      <td>2023-10-16</td>\n",
       "      <td>0.74</td>\n",
       "      <td>26</td>\n",
       "    </tr>\n",
       "    <tr>\n",
       "      <th>3</th>\n",
       "      <td>2023-11-25</td>\n",
       "      <td>0.48</td>\n",
       "      <td>11</td>\n",
       "    </tr>\n",
       "    <tr>\n",
       "      <th>4</th>\n",
       "      <td>2023-10-18</td>\n",
       "      <td>0.66</td>\n",
       "      <td>16</td>\n",
       "    </tr>\n",
       "    <tr>\n",
       "      <th>...</th>\n",
       "      <td>...</td>\n",
       "      <td>...</td>\n",
       "      <td>...</td>\n",
       "    </tr>\n",
       "    <tr>\n",
       "      <th>18316</th>\n",
       "      <td>NaN</td>\n",
       "      <td>NaN</td>\n",
       "      <td>0</td>\n",
       "    </tr>\n",
       "    <tr>\n",
       "      <th>18317</th>\n",
       "      <td>NaN</td>\n",
       "      <td>NaN</td>\n",
       "      <td>0</td>\n",
       "    </tr>\n",
       "    <tr>\n",
       "      <th>18318</th>\n",
       "      <td>NaN</td>\n",
       "      <td>NaN</td>\n",
       "      <td>0</td>\n",
       "    </tr>\n",
       "    <tr>\n",
       "      <th>18319</th>\n",
       "      <td>NaN</td>\n",
       "      <td>NaN</td>\n",
       "      <td>0</td>\n",
       "    </tr>\n",
       "    <tr>\n",
       "      <th>18320</th>\n",
       "      <td>NaN</td>\n",
       "      <td>NaN</td>\n",
       "      <td>0</td>\n",
       "    </tr>\n",
       "  </tbody>\n",
       "</table>\n",
       "<p>18321 rows × 3 columns</p>\n",
       "</div>"
      ],
      "text/plain": [
       "      last_review  reviews_per_month  number_of_reviews_ltm\n",
       "0      2023-12-04               0.16                      9\n",
       "1      2023-11-07               0.31                      7\n",
       "2      2023-10-16               0.74                     26\n",
       "3      2023-11-25               0.48                     11\n",
       "4      2023-10-18               0.66                     16\n",
       "...           ...                ...                    ...\n",
       "18316         NaN                NaN                      0\n",
       "18317         NaN                NaN                      0\n",
       "18318         NaN                NaN                      0\n",
       "18319         NaN                NaN                      0\n",
       "18320         NaN                NaN                      0\n",
       "\n",
       "[18321 rows x 3 columns]"
      ]
     },
     "execution_count": 305,
     "metadata": {},
     "output_type": "execute_result"
    }
   ],
   "source": [
    "df_bcn.iloc[:][['last_review', 'reviews_per_month', 'number_of_reviews_ltm']]"
   ]
  },
  {
   "cell_type": "code",
   "execution_count": 306,
   "metadata": {},
   "outputs": [],
   "source": [
    "df_bcn['last_review'] = pd.to_datetime(df_bcn['last_review'], format = \"%Y-%m-%d\")\n",
    "df_bcn['last_review'].interpolate(method='linear', inplace=True)"
   ]
  },
  {
   "cell_type": "code",
   "execution_count": 307,
   "metadata": {},
   "outputs": [
    {
     "data": {
      "text/html": [
       "<div>\n",
       "<style scoped>\n",
       "    .dataframe tbody tr th:only-of-type {\n",
       "        vertical-align: middle;\n",
       "    }\n",
       "\n",
       "    .dataframe tbody tr th {\n",
       "        vertical-align: top;\n",
       "    }\n",
       "\n",
       "    .dataframe thead th {\n",
       "        text-align: right;\n",
       "    }\n",
       "</style>\n",
       "<table border=\"1\" class=\"dataframe\">\n",
       "  <thead>\n",
       "    <tr style=\"text-align: right;\">\n",
       "      <th></th>\n",
       "      <th>last_review</th>\n",
       "      <th>reviews_per_month</th>\n",
       "      <th>number_of_reviews_ltm</th>\n",
       "    </tr>\n",
       "  </thead>\n",
       "  <tbody>\n",
       "    <tr>\n",
       "      <th>0</th>\n",
       "      <td>2023-12-04</td>\n",
       "      <td>0.16</td>\n",
       "      <td>9</td>\n",
       "    </tr>\n",
       "    <tr>\n",
       "      <th>1</th>\n",
       "      <td>2023-11-07</td>\n",
       "      <td>0.31</td>\n",
       "      <td>7</td>\n",
       "    </tr>\n",
       "    <tr>\n",
       "      <th>2</th>\n",
       "      <td>2023-10-16</td>\n",
       "      <td>0.74</td>\n",
       "      <td>26</td>\n",
       "    </tr>\n",
       "    <tr>\n",
       "      <th>3</th>\n",
       "      <td>2023-11-25</td>\n",
       "      <td>0.48</td>\n",
       "      <td>11</td>\n",
       "    </tr>\n",
       "    <tr>\n",
       "      <th>4</th>\n",
       "      <td>2023-10-18</td>\n",
       "      <td>0.66</td>\n",
       "      <td>16</td>\n",
       "    </tr>\n",
       "    <tr>\n",
       "      <th>...</th>\n",
       "      <td>...</td>\n",
       "      <td>...</td>\n",
       "      <td>...</td>\n",
       "    </tr>\n",
       "    <tr>\n",
       "      <th>18316</th>\n",
       "      <td>2023-12-03</td>\n",
       "      <td>0.00</td>\n",
       "      <td>0</td>\n",
       "    </tr>\n",
       "    <tr>\n",
       "      <th>18317</th>\n",
       "      <td>2023-12-03</td>\n",
       "      <td>0.00</td>\n",
       "      <td>0</td>\n",
       "    </tr>\n",
       "    <tr>\n",
       "      <th>18318</th>\n",
       "      <td>2023-12-03</td>\n",
       "      <td>0.00</td>\n",
       "      <td>0</td>\n",
       "    </tr>\n",
       "    <tr>\n",
       "      <th>18319</th>\n",
       "      <td>2023-12-03</td>\n",
       "      <td>0.00</td>\n",
       "      <td>0</td>\n",
       "    </tr>\n",
       "    <tr>\n",
       "      <th>18320</th>\n",
       "      <td>2023-12-03</td>\n",
       "      <td>0.00</td>\n",
       "      <td>0</td>\n",
       "    </tr>\n",
       "  </tbody>\n",
       "</table>\n",
       "<p>18321 rows × 3 columns</p>\n",
       "</div>"
      ],
      "text/plain": [
       "      last_review  reviews_per_month  number_of_reviews_ltm\n",
       "0      2023-12-04               0.16                      9\n",
       "1      2023-11-07               0.31                      7\n",
       "2      2023-10-16               0.74                     26\n",
       "3      2023-11-25               0.48                     11\n",
       "4      2023-10-18               0.66                     16\n",
       "...           ...                ...                    ...\n",
       "18316  2023-12-03               0.00                      0\n",
       "18317  2023-12-03               0.00                      0\n",
       "18318  2023-12-03               0.00                      0\n",
       "18319  2023-12-03               0.00                      0\n",
       "18320  2023-12-03               0.00                      0\n",
       "\n",
       "[18321 rows x 3 columns]"
      ]
     },
     "execution_count": 307,
     "metadata": {},
     "output_type": "execute_result"
    }
   ],
   "source": [
    "df_bcn['reviews_per_month'].fillna(0,inplace=True)\n",
    "\n",
    "df_bcn.iloc[:][['last_review', 'reviews_per_month', 'number_of_reviews_ltm']]"
   ]
  },
  {
   "cell_type": "code",
   "execution_count": 308,
   "metadata": {},
   "outputs": [
    {
     "data": {
      "text/plain": [
       "id                                   0\n",
       "name                                 0\n",
       "host_id                              0\n",
       "host_name                            0\n",
       "neighbourhood_group                  0\n",
       "neighbourhood                        0\n",
       "latitude                             0\n",
       "longitude                            0\n",
       "room_type                            0\n",
       "price                                0\n",
       "minimum_nights                       0\n",
       "number_of_reviews                    0\n",
       "last_review                          0\n",
       "reviews_per_month                    0\n",
       "calculated_host_listings_count       0\n",
       "availability_365                     0\n",
       "number_of_reviews_ltm                0\n",
       "license                           5917\n",
       "city                                 0\n",
       "dtype: int64"
      ]
     },
     "execution_count": 308,
     "metadata": {},
     "output_type": "execute_result"
    }
   ],
   "source": [
    "df_bcn.isna().sum()"
   ]
  },
  {
   "cell_type": "markdown",
   "metadata": {},
   "source": [
    "* As there are missing values on column 'license', so we fill in with string 'no info'."
   ]
  },
  {
   "cell_type": "code",
   "execution_count": 309,
   "metadata": {},
   "outputs": [
    {
     "data": {
      "text/plain": [
       "0"
      ]
     },
     "execution_count": 309,
     "metadata": {},
     "output_type": "execute_result"
    }
   ],
   "source": [
    "df_bcn['license'].fillna('no info', inplace=True)\n",
    "\n",
    "df_bcn['license'].isna().sum()"
   ]
  },
  {
   "cell_type": "code",
   "execution_count": 310,
   "metadata": {},
   "outputs": [
    {
     "data": {
      "text/plain": [
       "id                                0\n",
       "name                              0\n",
       "host_id                           0\n",
       "host_name                         0\n",
       "neighbourhood_group               0\n",
       "neighbourhood                     0\n",
       "latitude                          0\n",
       "longitude                         0\n",
       "room_type                         0\n",
       "price                             0\n",
       "minimum_nights                    0\n",
       "number_of_reviews                 0\n",
       "last_review                       0\n",
       "reviews_per_month                 0\n",
       "calculated_host_listings_count    0\n",
       "availability_365                  0\n",
       "number_of_reviews_ltm             0\n",
       "license                           0\n",
       "city                              0\n",
       "dtype: int64"
      ]
     },
     "execution_count": 310,
     "metadata": {},
     "output_type": "execute_result"
    }
   ],
   "source": [
    "df_bcn.isna().sum()"
   ]
  },
  {
   "cell_type": "markdown",
   "metadata": {},
   "source": [
    "#### 3. Same process should be taken for cleaning Berlin dataset."
   ]
  },
  {
   "cell_type": "code",
   "execution_count": 311,
   "metadata": {},
   "outputs": [
    {
     "data": {
      "text/plain": [
       "0"
      ]
     },
     "execution_count": 311,
     "metadata": {},
     "output_type": "execute_result"
    }
   ],
   "source": [
    "df_ber.duplicated().sum()"
   ]
  },
  {
   "cell_type": "code",
   "execution_count": 312,
   "metadata": {},
   "outputs": [
    {
     "data": {
      "text/plain": [
       "id                                   0\n",
       "name                                 0\n",
       "host_id                              0\n",
       "host_name                            9\n",
       "neighbourhood_group                  0\n",
       "neighbourhood                        0\n",
       "latitude                             0\n",
       "longitude                            0\n",
       "room_type                            0\n",
       "price                             3953\n",
       "minimum_nights                       0\n",
       "number_of_reviews                    0\n",
       "last_review                       3000\n",
       "reviews_per_month                 3000\n",
       "calculated_host_listings_count       0\n",
       "availability_365                     0\n",
       "number_of_reviews_ltm                0\n",
       "license                           5091\n",
       "city                                 0\n",
       "dtype: int64"
      ]
     },
     "execution_count": 312,
     "metadata": {},
     "output_type": "execute_result"
    }
   ],
   "source": [
    "df_ber.isna().sum()"
   ]
  },
  {
   "cell_type": "code",
   "execution_count": 313,
   "metadata": {},
   "outputs": [],
   "source": [
    "mean_ber_price = np.mean(df_ber['price'])\n",
    "df_ber['price'].fillna(mean_ber_price, inplace=True)"
   ]
  },
  {
   "cell_type": "code",
   "execution_count": 314,
   "metadata": {},
   "outputs": [],
   "source": [
    "df_ber['host_name'].fillna('no info', inplace=True)"
   ]
  },
  {
   "cell_type": "code",
   "execution_count": 315,
   "metadata": {},
   "outputs": [
    {
     "data": {
      "text/html": [
       "<div>\n",
       "<style scoped>\n",
       "    .dataframe tbody tr th:only-of-type {\n",
       "        vertical-align: middle;\n",
       "    }\n",
       "\n",
       "    .dataframe tbody tr th {\n",
       "        vertical-align: top;\n",
       "    }\n",
       "\n",
       "    .dataframe thead th {\n",
       "        text-align: right;\n",
       "    }\n",
       "</style>\n",
       "<table border=\"1\" class=\"dataframe\">\n",
       "  <thead>\n",
       "    <tr style=\"text-align: right;\">\n",
       "      <th></th>\n",
       "      <th>last_review</th>\n",
       "      <th>reviews_per_month</th>\n",
       "      <th>number_of_reviews_ltm</th>\n",
       "    </tr>\n",
       "  </thead>\n",
       "  <tbody>\n",
       "    <tr>\n",
       "      <th>0</th>\n",
       "      <td>2023-05-25</td>\n",
       "      <td>0.84</td>\n",
       "      <td>1</td>\n",
       "    </tr>\n",
       "    <tr>\n",
       "      <th>1</th>\n",
       "      <td>2020-01-04</td>\n",
       "      <td>0.07</td>\n",
       "      <td>0</td>\n",
       "    </tr>\n",
       "    <tr>\n",
       "      <th>2</th>\n",
       "      <td>2023-11-26</td>\n",
       "      <td>3.92</td>\n",
       "      <td>50</td>\n",
       "    </tr>\n",
       "    <tr>\n",
       "      <th>3</th>\n",
       "      <td>2023-11-30</td>\n",
       "      <td>0.16</td>\n",
       "      <td>1</td>\n",
       "    </tr>\n",
       "    <tr>\n",
       "      <th>4</th>\n",
       "      <td>2017-12-14</td>\n",
       "      <td>0.29</td>\n",
       "      <td>0</td>\n",
       "    </tr>\n",
       "    <tr>\n",
       "      <th>...</th>\n",
       "      <td>...</td>\n",
       "      <td>...</td>\n",
       "      <td>...</td>\n",
       "    </tr>\n",
       "    <tr>\n",
       "      <th>13322</th>\n",
       "      <td>NaN</td>\n",
       "      <td>NaN</td>\n",
       "      <td>0</td>\n",
       "    </tr>\n",
       "    <tr>\n",
       "      <th>13323</th>\n",
       "      <td>NaN</td>\n",
       "      <td>NaN</td>\n",
       "      <td>0</td>\n",
       "    </tr>\n",
       "    <tr>\n",
       "      <th>13324</th>\n",
       "      <td>NaN</td>\n",
       "      <td>NaN</td>\n",
       "      <td>0</td>\n",
       "    </tr>\n",
       "    <tr>\n",
       "      <th>13325</th>\n",
       "      <td>NaN</td>\n",
       "      <td>NaN</td>\n",
       "      <td>0</td>\n",
       "    </tr>\n",
       "    <tr>\n",
       "      <th>13326</th>\n",
       "      <td>NaN</td>\n",
       "      <td>NaN</td>\n",
       "      <td>0</td>\n",
       "    </tr>\n",
       "  </tbody>\n",
       "</table>\n",
       "<p>13327 rows × 3 columns</p>\n",
       "</div>"
      ],
      "text/plain": [
       "      last_review  reviews_per_month  number_of_reviews_ltm\n",
       "0      2023-05-25               0.84                      1\n",
       "1      2020-01-04               0.07                      0\n",
       "2      2023-11-26               3.92                     50\n",
       "3      2023-11-30               0.16                      1\n",
       "4      2017-12-14               0.29                      0\n",
       "...           ...                ...                    ...\n",
       "13322         NaN                NaN                      0\n",
       "13323         NaN                NaN                      0\n",
       "13324         NaN                NaN                      0\n",
       "13325         NaN                NaN                      0\n",
       "13326         NaN                NaN                      0\n",
       "\n",
       "[13327 rows x 3 columns]"
      ]
     },
     "execution_count": 315,
     "metadata": {},
     "output_type": "execute_result"
    }
   ],
   "source": [
    "df_ber.iloc[:][['last_review', 'reviews_per_month', 'number_of_reviews_ltm']]"
   ]
  },
  {
   "cell_type": "code",
   "execution_count": 316,
   "metadata": {},
   "outputs": [],
   "source": [
    "df_ber['last_review'] = pd.to_datetime(df_ber['last_review'], format = \"%Y-%m-%d\")\n",
    "df_ber['last_review'].interpolate(method='linear', inplace=True)"
   ]
  },
  {
   "cell_type": "code",
   "execution_count": 317,
   "metadata": {},
   "outputs": [],
   "source": [
    "df_ber['reviews_per_month'].fillna(0,inplace=True)"
   ]
  },
  {
   "cell_type": "code",
   "execution_count": 318,
   "metadata": {},
   "outputs": [],
   "source": [
    "df_ber['license'].fillna('no info', inplace=True)"
   ]
  },
  {
   "cell_type": "code",
   "execution_count": 319,
   "metadata": {},
   "outputs": [
    {
     "data": {
      "text/plain": [
       "id                                0\n",
       "name                              0\n",
       "host_id                           0\n",
       "host_name                         0\n",
       "neighbourhood_group               0\n",
       "neighbourhood                     0\n",
       "latitude                          0\n",
       "longitude                         0\n",
       "room_type                         0\n",
       "price                             0\n",
       "minimum_nights                    0\n",
       "number_of_reviews                 0\n",
       "last_review                       0\n",
       "reviews_per_month                 0\n",
       "calculated_host_listings_count    0\n",
       "availability_365                  0\n",
       "number_of_reviews_ltm             0\n",
       "license                           0\n",
       "city                              0\n",
       "dtype: int64"
      ]
     },
     "execution_count": 319,
     "metadata": {},
     "output_type": "execute_result"
    }
   ],
   "source": [
    "df_ber.isna().sum()"
   ]
  },
  {
   "cell_type": "markdown",
   "metadata": {},
   "source": [
    "#### 4. Now let's combine the 2 datasets into a single dataset."
   ]
  },
  {
   "cell_type": "code",
   "execution_count": 320,
   "metadata": {},
   "outputs": [
    {
     "data": {
      "text/html": [
       "<div>\n",
       "<style scoped>\n",
       "    .dataframe tbody tr th:only-of-type {\n",
       "        vertical-align: middle;\n",
       "    }\n",
       "\n",
       "    .dataframe tbody tr th {\n",
       "        vertical-align: top;\n",
       "    }\n",
       "\n",
       "    .dataframe thead th {\n",
       "        text-align: right;\n",
       "    }\n",
       "</style>\n",
       "<table border=\"1\" class=\"dataframe\">\n",
       "  <thead>\n",
       "    <tr style=\"text-align: right;\">\n",
       "      <th></th>\n",
       "      <th>id</th>\n",
       "      <th>name</th>\n",
       "      <th>host_id</th>\n",
       "      <th>host_name</th>\n",
       "      <th>neighbourhood_group</th>\n",
       "      <th>neighbourhood</th>\n",
       "      <th>latitude</th>\n",
       "      <th>longitude</th>\n",
       "      <th>room_type</th>\n",
       "      <th>price</th>\n",
       "      <th>minimum_nights</th>\n",
       "      <th>number_of_reviews</th>\n",
       "      <th>last_review</th>\n",
       "      <th>reviews_per_month</th>\n",
       "      <th>calculated_host_listings_count</th>\n",
       "      <th>availability_365</th>\n",
       "      <th>number_of_reviews_ltm</th>\n",
       "      <th>license</th>\n",
       "      <th>city</th>\n",
       "    </tr>\n",
       "  </thead>\n",
       "  <tbody>\n",
       "    <tr>\n",
       "      <th>0</th>\n",
       "      <td>17475</td>\n",
       "      <td>Rental unit in 08013 Barcelona · ★4.40 · 1 bed...</td>\n",
       "      <td>65623</td>\n",
       "      <td>Luca</td>\n",
       "      <td>Eixample</td>\n",
       "      <td>la Dreta de l'Eixample</td>\n",
       "      <td>41.399390</td>\n",
       "      <td>2.170440</td>\n",
       "      <td>Entire home/apt</td>\n",
       "      <td>140.0</td>\n",
       "      <td>5</td>\n",
       "      <td>26</td>\n",
       "      <td>2023-12-04</td>\n",
       "      <td>0.16</td>\n",
       "      <td>1</td>\n",
       "      <td>32</td>\n",
       "      <td>9</td>\n",
       "      <td>no info</td>\n",
       "      <td>Barcelona</td>\n",
       "    </tr>\n",
       "    <tr>\n",
       "      <th>1</th>\n",
       "      <td>18674</td>\n",
       "      <td>Rental unit in Barcelona · ★4.33 · 3 bedrooms ...</td>\n",
       "      <td>71615</td>\n",
       "      <td>Mireia  Maria</td>\n",
       "      <td>Eixample</td>\n",
       "      <td>la Sagrada Família</td>\n",
       "      <td>41.405560</td>\n",
       "      <td>2.172620</td>\n",
       "      <td>Entire home/apt</td>\n",
       "      <td>121.0</td>\n",
       "      <td>1</td>\n",
       "      <td>40</td>\n",
       "      <td>2023-11-07</td>\n",
       "      <td>0.31</td>\n",
       "      <td>30</td>\n",
       "      <td>39</td>\n",
       "      <td>7</td>\n",
       "      <td>HUTB-002062</td>\n",
       "      <td>Barcelona</td>\n",
       "    </tr>\n",
       "    <tr>\n",
       "      <th>2</th>\n",
       "      <td>198958</td>\n",
       "      <td>Rental unit in Barcelona · ★4.69 · 4 bedrooms ...</td>\n",
       "      <td>971768</td>\n",
       "      <td>Laura</td>\n",
       "      <td>Sant Martí</td>\n",
       "      <td>Diagonal Mar i el Front Marítim del Poblenou</td>\n",
       "      <td>41.408050</td>\n",
       "      <td>2.214870</td>\n",
       "      <td>Entire home/apt</td>\n",
       "      <td>304.0</td>\n",
       "      <td>2</td>\n",
       "      <td>105</td>\n",
       "      <td>2023-10-16</td>\n",
       "      <td>0.74</td>\n",
       "      <td>9</td>\n",
       "      <td>137</td>\n",
       "      <td>26</td>\n",
       "      <td>HUTB-000926</td>\n",
       "      <td>Barcelona</td>\n",
       "    </tr>\n",
       "    <tr>\n",
       "      <th>3</th>\n",
       "      <td>23197</td>\n",
       "      <td>Rental unit in Sant Adria de Besos · ★4.77 · 3...</td>\n",
       "      <td>90417</td>\n",
       "      <td>Etain (Marnie)</td>\n",
       "      <td>Sant Martí</td>\n",
       "      <td>el Besòs i el Maresme</td>\n",
       "      <td>41.412432</td>\n",
       "      <td>2.219750</td>\n",
       "      <td>Entire home/apt</td>\n",
       "      <td>200.0</td>\n",
       "      <td>3</td>\n",
       "      <td>75</td>\n",
       "      <td>2023-11-25</td>\n",
       "      <td>0.48</td>\n",
       "      <td>2</td>\n",
       "      <td>300</td>\n",
       "      <td>11</td>\n",
       "      <td>HUTB005057</td>\n",
       "      <td>Barcelona</td>\n",
       "    </tr>\n",
       "    <tr>\n",
       "      <th>4</th>\n",
       "      <td>32711</td>\n",
       "      <td>Rental unit in Barcelona · ★4.48 · 2 bedrooms ...</td>\n",
       "      <td>135703</td>\n",
       "      <td>Nick</td>\n",
       "      <td>Gràcia</td>\n",
       "      <td>el Camp d'en Grassot i Gràcia Nova</td>\n",
       "      <td>41.405660</td>\n",
       "      <td>2.170150</td>\n",
       "      <td>Entire home/apt</td>\n",
       "      <td>79.0</td>\n",
       "      <td>1</td>\n",
       "      <td>99</td>\n",
       "      <td>2023-10-18</td>\n",
       "      <td>0.66</td>\n",
       "      <td>3</td>\n",
       "      <td>297</td>\n",
       "      <td>16</td>\n",
       "      <td>HUTB-001722</td>\n",
       "      <td>Barcelona</td>\n",
       "    </tr>\n",
       "    <tr>\n",
       "      <th>...</th>\n",
       "      <td>...</td>\n",
       "      <td>...</td>\n",
       "      <td>...</td>\n",
       "      <td>...</td>\n",
       "      <td>...</td>\n",
       "      <td>...</td>\n",
       "      <td>...</td>\n",
       "      <td>...</td>\n",
       "      <td>...</td>\n",
       "      <td>...</td>\n",
       "      <td>...</td>\n",
       "      <td>...</td>\n",
       "      <td>...</td>\n",
       "      <td>...</td>\n",
       "      <td>...</td>\n",
       "      <td>...</td>\n",
       "      <td>...</td>\n",
       "      <td>...</td>\n",
       "      <td>...</td>\n",
       "    </tr>\n",
       "    <tr>\n",
       "      <th>31643</th>\n",
       "      <td>1048290130755102956</td>\n",
       "      <td>Rental unit in Berlin · ★New · 1 bedroom · 1 b...</td>\n",
       "      <td>168840227</td>\n",
       "      <td>Rounak</td>\n",
       "      <td>Pankow</td>\n",
       "      <td>Prenzlauer Berg Nordwest</td>\n",
       "      <td>52.552905</td>\n",
       "      <td>13.400229</td>\n",
       "      <td>Entire home/apt</td>\n",
       "      <td>47.0</td>\n",
       "      <td>1</td>\n",
       "      <td>0</td>\n",
       "      <td>2023-12-17</td>\n",
       "      <td>0.00</td>\n",
       "      <td>1</td>\n",
       "      <td>231</td>\n",
       "      <td>0</td>\n",
       "      <td>First name and Last name: Rounak Kakwani &lt;br/&gt;...</td>\n",
       "      <td>Berlin</td>\n",
       "    </tr>\n",
       "    <tr>\n",
       "      <th>31644</th>\n",
       "      <td>1048444986736672883</td>\n",
       "      <td>Rental unit in Berlin · ★New · 1 bedroom · 1 b...</td>\n",
       "      <td>551079357</td>\n",
       "      <td>Esra</td>\n",
       "      <td>Mitte</td>\n",
       "      <td>Alexanderplatz</td>\n",
       "      <td>52.522356</td>\n",
       "      <td>13.426044</td>\n",
       "      <td>Entire home/apt</td>\n",
       "      <td>87.0</td>\n",
       "      <td>2</td>\n",
       "      <td>0</td>\n",
       "      <td>2023-12-17</td>\n",
       "      <td>0.00</td>\n",
       "      <td>1</td>\n",
       "      <td>65</td>\n",
       "      <td>0</td>\n",
       "      <td>First name and Last name: Esra Kocatürk &lt;br/&gt; ...</td>\n",
       "      <td>Berlin</td>\n",
       "    </tr>\n",
       "    <tr>\n",
       "      <th>31645</th>\n",
       "      <td>1048535169043506669</td>\n",
       "      <td>Rental unit in Berlin · ★New · 1 bedroom · 1 b...</td>\n",
       "      <td>551034226</td>\n",
       "      <td>Pietro</td>\n",
       "      <td>Charlottenburg-Wilm.</td>\n",
       "      <td>Volkspark Wilmersdorf</td>\n",
       "      <td>52.485782</td>\n",
       "      <td>13.335904</td>\n",
       "      <td>Entire home/apt</td>\n",
       "      <td>58.0</td>\n",
       "      <td>1</td>\n",
       "      <td>0</td>\n",
       "      <td>2023-12-17</td>\n",
       "      <td>0.00</td>\n",
       "      <td>1</td>\n",
       "      <td>171</td>\n",
       "      <td>0</td>\n",
       "      <td>First name and Last name: Pietro manfregola &lt;b...</td>\n",
       "      <td>Berlin</td>\n",
       "    </tr>\n",
       "    <tr>\n",
       "      <th>31646</th>\n",
       "      <td>1048637262243761764</td>\n",
       "      <td>Rental unit in Berlin · ★New · 3 bedrooms · 3 ...</td>\n",
       "      <td>29385449</td>\n",
       "      <td>Luis</td>\n",
       "      <td>Mitte</td>\n",
       "      <td>Brunnenstr. Nord</td>\n",
       "      <td>52.544105</td>\n",
       "      <td>13.373386</td>\n",
       "      <td>Entire home/apt</td>\n",
       "      <td>161.0</td>\n",
       "      <td>1</td>\n",
       "      <td>0</td>\n",
       "      <td>2023-12-17</td>\n",
       "      <td>0.00</td>\n",
       "      <td>3</td>\n",
       "      <td>11</td>\n",
       "      <td>0</td>\n",
       "      <td>Legal entity name and Legal form: Spacifik UG ...</td>\n",
       "      <td>Berlin</td>\n",
       "    </tr>\n",
       "    <tr>\n",
       "      <th>31647</th>\n",
       "      <td>1049081468356551619</td>\n",
       "      <td>Rental unit in Berlin · ★New · Studio · 2 beds...</td>\n",
       "      <td>175463482</td>\n",
       "      <td>Flo</td>\n",
       "      <td>Friedrichshain-Kreuzberg</td>\n",
       "      <td>Frankfurter Allee Süd FK</td>\n",
       "      <td>52.512652</td>\n",
       "      <td>13.463293</td>\n",
       "      <td>Entire home/apt</td>\n",
       "      <td>94.0</td>\n",
       "      <td>1</td>\n",
       "      <td>0</td>\n",
       "      <td>2023-12-17</td>\n",
       "      <td>0.00</td>\n",
       "      <td>9</td>\n",
       "      <td>361</td>\n",
       "      <td>0</td>\n",
       "      <td>Legal entity name and Legal form: Indepecon Gm...</td>\n",
       "      <td>Berlin</td>\n",
       "    </tr>\n",
       "  </tbody>\n",
       "</table>\n",
       "<p>31648 rows × 19 columns</p>\n",
       "</div>"
      ],
      "text/plain": [
       "                        id                                               name  \\\n",
       "0                    17475  Rental unit in 08013 Barcelona · ★4.40 · 1 bed...   \n",
       "1                    18674  Rental unit in Barcelona · ★4.33 · 3 bedrooms ...   \n",
       "2                   198958  Rental unit in Barcelona · ★4.69 · 4 bedrooms ...   \n",
       "3                    23197  Rental unit in Sant Adria de Besos · ★4.77 · 3...   \n",
       "4                    32711  Rental unit in Barcelona · ★4.48 · 2 bedrooms ...   \n",
       "...                    ...                                                ...   \n",
       "31643  1048290130755102956  Rental unit in Berlin · ★New · 1 bedroom · 1 b...   \n",
       "31644  1048444986736672883  Rental unit in Berlin · ★New · 1 bedroom · 1 b...   \n",
       "31645  1048535169043506669  Rental unit in Berlin · ★New · 1 bedroom · 1 b...   \n",
       "31646  1048637262243761764  Rental unit in Berlin · ★New · 3 bedrooms · 3 ...   \n",
       "31647  1049081468356551619  Rental unit in Berlin · ★New · Studio · 2 beds...   \n",
       "\n",
       "         host_id       host_name       neighbourhood_group  \\\n",
       "0          65623            Luca                  Eixample   \n",
       "1          71615   Mireia  Maria                  Eixample   \n",
       "2         971768           Laura                Sant Martí   \n",
       "3          90417  Etain (Marnie)                Sant Martí   \n",
       "4         135703            Nick                    Gràcia   \n",
       "...          ...             ...                       ...   \n",
       "31643  168840227          Rounak                    Pankow   \n",
       "31644  551079357            Esra                     Mitte   \n",
       "31645  551034226          Pietro      Charlottenburg-Wilm.   \n",
       "31646   29385449            Luis                     Mitte   \n",
       "31647  175463482             Flo  Friedrichshain-Kreuzberg   \n",
       "\n",
       "                                      neighbourhood   latitude  longitude  \\\n",
       "0                            la Dreta de l'Eixample  41.399390   2.170440   \n",
       "1                                la Sagrada Família  41.405560   2.172620   \n",
       "2      Diagonal Mar i el Front Marítim del Poblenou  41.408050   2.214870   \n",
       "3                             el Besòs i el Maresme  41.412432   2.219750   \n",
       "4                el Camp d'en Grassot i Gràcia Nova  41.405660   2.170150   \n",
       "...                                             ...        ...        ...   \n",
       "31643                      Prenzlauer Berg Nordwest  52.552905  13.400229   \n",
       "31644                                Alexanderplatz  52.522356  13.426044   \n",
       "31645                         Volkspark Wilmersdorf  52.485782  13.335904   \n",
       "31646                              Brunnenstr. Nord  52.544105  13.373386   \n",
       "31647                      Frankfurter Allee Süd FK  52.512652  13.463293   \n",
       "\n",
       "             room_type  price  minimum_nights  number_of_reviews last_review  \\\n",
       "0      Entire home/apt  140.0               5                 26  2023-12-04   \n",
       "1      Entire home/apt  121.0               1                 40  2023-11-07   \n",
       "2      Entire home/apt  304.0               2                105  2023-10-16   \n",
       "3      Entire home/apt  200.0               3                 75  2023-11-25   \n",
       "4      Entire home/apt   79.0               1                 99  2023-10-18   \n",
       "...                ...    ...             ...                ...         ...   \n",
       "31643  Entire home/apt   47.0               1                  0  2023-12-17   \n",
       "31644  Entire home/apt   87.0               2                  0  2023-12-17   \n",
       "31645  Entire home/apt   58.0               1                  0  2023-12-17   \n",
       "31646  Entire home/apt  161.0               1                  0  2023-12-17   \n",
       "31647  Entire home/apt   94.0               1                  0  2023-12-17   \n",
       "\n",
       "       reviews_per_month  calculated_host_listings_count  availability_365  \\\n",
       "0                   0.16                               1                32   \n",
       "1                   0.31                              30                39   \n",
       "2                   0.74                               9               137   \n",
       "3                   0.48                               2               300   \n",
       "4                   0.66                               3               297   \n",
       "...                  ...                             ...               ...   \n",
       "31643               0.00                               1               231   \n",
       "31644               0.00                               1                65   \n",
       "31645               0.00                               1               171   \n",
       "31646               0.00                               3                11   \n",
       "31647               0.00                               9               361   \n",
       "\n",
       "       number_of_reviews_ltm  \\\n",
       "0                          9   \n",
       "1                          7   \n",
       "2                         26   \n",
       "3                         11   \n",
       "4                         16   \n",
       "...                      ...   \n",
       "31643                      0   \n",
       "31644                      0   \n",
       "31645                      0   \n",
       "31646                      0   \n",
       "31647                      0   \n",
       "\n",
       "                                                 license       city  \n",
       "0                                                no info  Barcelona  \n",
       "1                                            HUTB-002062  Barcelona  \n",
       "2                                            HUTB-000926  Barcelona  \n",
       "3                                             HUTB005057  Barcelona  \n",
       "4                                            HUTB-001722  Barcelona  \n",
       "...                                                  ...        ...  \n",
       "31643  First name and Last name: Rounak Kakwani <br/>...     Berlin  \n",
       "31644  First name and Last name: Esra Kocatürk <br/> ...     Berlin  \n",
       "31645  First name and Last name: Pietro manfregola <b...     Berlin  \n",
       "31646  Legal entity name and Legal form: Spacifik UG ...     Berlin  \n",
       "31647  Legal entity name and Legal form: Indepecon Gm...     Berlin  \n",
       "\n",
       "[31648 rows x 19 columns]"
      ]
     },
     "execution_count": 320,
     "metadata": {},
     "output_type": "execute_result"
    }
   ],
   "source": [
    "# combine the datasets of Barcelona and Berlin into a single one.\n",
    "\n",
    "bcn_ber_data = pd.concat([df_bcn, df_ber], ignore_index=True)\n",
    "\n",
    "bcn_ber_data\n"
   ]
  },
  {
   "cell_type": "code",
   "execution_count": 321,
   "metadata": {},
   "outputs": [
    {
     "data": {
      "text/plain": [
       "(31648, 19)"
      ]
     },
     "execution_count": 321,
     "metadata": {},
     "output_type": "execute_result"
    }
   ],
   "source": [
    "bcn_ber_data.shape"
   ]
  },
  {
   "cell_type": "code",
   "execution_count": 322,
   "metadata": {},
   "outputs": [
    {
     "name": "stdout",
     "output_type": "stream",
     "text": [
      "<class 'pandas.core.frame.DataFrame'>\n",
      "RangeIndex: 31648 entries, 0 to 31647\n",
      "Data columns (total 19 columns):\n",
      " #   Column                          Non-Null Count  Dtype         \n",
      "---  ------                          --------------  -----         \n",
      " 0   id                              31648 non-null  int64         \n",
      " 1   name                            31648 non-null  object        \n",
      " 2   host_id                         31648 non-null  int64         \n",
      " 3   host_name                       31648 non-null  object        \n",
      " 4   neighbourhood_group             31648 non-null  object        \n",
      " 5   neighbourhood                   31648 non-null  object        \n",
      " 6   latitude                        31648 non-null  float64       \n",
      " 7   longitude                       31648 non-null  float64       \n",
      " 8   room_type                       31648 non-null  object        \n",
      " 9   price                           31648 non-null  float64       \n",
      " 10  minimum_nights                  31648 non-null  int64         \n",
      " 11  number_of_reviews               31648 non-null  int64         \n",
      " 12  last_review                     31648 non-null  datetime64[ns]\n",
      " 13  reviews_per_month               31648 non-null  float64       \n",
      " 14  calculated_host_listings_count  31648 non-null  int64         \n",
      " 15  availability_365                31648 non-null  int64         \n",
      " 16  number_of_reviews_ltm           31648 non-null  int64         \n",
      " 17  license                         31648 non-null  object        \n",
      " 18  city                            31648 non-null  object        \n",
      "dtypes: datetime64[ns](1), float64(4), int64(7), object(7)\n",
      "memory usage: 4.6+ MB\n"
     ]
    }
   ],
   "source": [
    "bcn_ber_data.info()"
   ]
  },
  {
   "cell_type": "code",
   "execution_count": 323,
   "metadata": {},
   "outputs": [
    {
     "data": {
      "text/plain": [
       "id                                0\n",
       "name                              0\n",
       "host_id                           0\n",
       "host_name                         0\n",
       "neighbourhood_group               0\n",
       "neighbourhood                     0\n",
       "latitude                          0\n",
       "longitude                         0\n",
       "room_type                         0\n",
       "price                             0\n",
       "minimum_nights                    0\n",
       "number_of_reviews                 0\n",
       "last_review                       0\n",
       "reviews_per_month                 0\n",
       "calculated_host_listings_count    0\n",
       "availability_365                  0\n",
       "number_of_reviews_ltm             0\n",
       "license                           0\n",
       "city                              0\n",
       "dtype: int64"
      ]
     },
     "execution_count": 323,
     "metadata": {},
     "output_type": "execute_result"
    }
   ],
   "source": [
    "bcn_ber_data.isna().sum()"
   ]
  },
  {
   "cell_type": "code",
   "execution_count": 324,
   "metadata": {},
   "outputs": [
    {
     "data": {
      "text/html": [
       "<div>\n",
       "<style scoped>\n",
       "    .dataframe tbody tr th:only-of-type {\n",
       "        vertical-align: middle;\n",
       "    }\n",
       "\n",
       "    .dataframe tbody tr th {\n",
       "        vertical-align: top;\n",
       "    }\n",
       "\n",
       "    .dataframe thead th {\n",
       "        text-align: right;\n",
       "    }\n",
       "</style>\n",
       "<table border=\"1\" class=\"dataframe\">\n",
       "  <thead>\n",
       "    <tr style=\"text-align: right;\">\n",
       "      <th></th>\n",
       "      <th>id</th>\n",
       "      <th>host_id</th>\n",
       "      <th>latitude</th>\n",
       "      <th>longitude</th>\n",
       "      <th>price</th>\n",
       "      <th>minimum_nights</th>\n",
       "      <th>number_of_reviews</th>\n",
       "      <th>last_review</th>\n",
       "      <th>reviews_per_month</th>\n",
       "      <th>calculated_host_listings_count</th>\n",
       "      <th>availability_365</th>\n",
       "      <th>number_of_reviews_ltm</th>\n",
       "    </tr>\n",
       "  </thead>\n",
       "  <tbody>\n",
       "    <tr>\n",
       "      <th>count</th>\n",
       "      <td>3.164800e+04</td>\n",
       "      <td>3.164800e+04</td>\n",
       "      <td>31648.000000</td>\n",
       "      <td>31648.000000</td>\n",
       "      <td>31648.000000</td>\n",
       "      <td>31648.000000</td>\n",
       "      <td>31648.000000</td>\n",
       "      <td>31648</td>\n",
       "      <td>31648.000000</td>\n",
       "      <td>31648.000000</td>\n",
       "      <td>31648.000000</td>\n",
       "      <td>31648.000000</td>\n",
       "    </tr>\n",
       "    <tr>\n",
       "      <th>mean</th>\n",
       "      <td>3.099117e+17</td>\n",
       "      <td>1.621615e+08</td>\n",
       "      <td>46.073650</td>\n",
       "      <td>6.898237</td>\n",
       "      <td>125.661561</td>\n",
       "      <td>26.627844</td>\n",
       "      <td>41.093845</td>\n",
       "      <td>2022-11-09 05:31:28.270981120</td>\n",
       "      <td>1.012234</td>\n",
       "      <td>23.480410</td>\n",
       "      <td>149.884069</td>\n",
       "      <td>10.675683</td>\n",
       "    </tr>\n",
       "    <tr>\n",
       "      <th>min</th>\n",
       "      <td>3.176000e+03</td>\n",
       "      <td>1.581000e+03</td>\n",
       "      <td>41.352720</td>\n",
       "      <td>2.085593</td>\n",
       "      <td>9.000000</td>\n",
       "      <td>1.000000</td>\n",
       "      <td>0.000000</td>\n",
       "      <td>2011-06-23 00:00:00</td>\n",
       "      <td>0.000000</td>\n",
       "      <td>1.000000</td>\n",
       "      <td>0.000000</td>\n",
       "      <td>0.000000</td>\n",
       "    </tr>\n",
       "    <tr>\n",
       "      <th>25%</th>\n",
       "      <td>2.009976e+07</td>\n",
       "      <td>1.150212e+07</td>\n",
       "      <td>41.386550</td>\n",
       "      <td>2.165218</td>\n",
       "      <td>64.000000</td>\n",
       "      <td>2.000000</td>\n",
       "      <td>1.000000</td>\n",
       "      <td>2022-12-31 00:00:00</td>\n",
       "      <td>0.020000</td>\n",
       "      <td>1.000000</td>\n",
       "      <td>0.000000</td>\n",
       "      <td>0.000000</td>\n",
       "    </tr>\n",
       "    <tr>\n",
       "      <th>50%</th>\n",
       "      <td>4.308470e+07</td>\n",
       "      <td>7.915606e+07</td>\n",
       "      <td>41.406996</td>\n",
       "      <td>2.182664</td>\n",
       "      <td>107.000000</td>\n",
       "      <td>4.000000</td>\n",
       "      <td>7.000000</td>\n",
       "      <td>2023-10-18 00:00:00</td>\n",
       "      <td>0.310000</td>\n",
       "      <td>2.000000</td>\n",
       "      <td>129.000000</td>\n",
       "      <td>1.000000</td>\n",
       "    </tr>\n",
       "    <tr>\n",
       "      <th>75%</th>\n",
       "      <td>7.621230e+17</td>\n",
       "      <td>2.981860e+08</td>\n",
       "      <td>52.501730</td>\n",
       "      <td>13.399750</td>\n",
       "      <td>126.494083</td>\n",
       "      <td>32.000000</td>\n",
       "      <td>39.000000</td>\n",
       "      <td>2023-11-26 00:00:00</td>\n",
       "      <td>1.430000</td>\n",
       "      <td>13.000000</td>\n",
       "      <td>285.000000</td>\n",
       "      <td>13.000000</td>\n",
       "    </tr>\n",
       "    <tr>\n",
       "      <th>max</th>\n",
       "      <td>1.049081e+18</td>\n",
       "      <td>5.510794e+08</td>\n",
       "      <td>52.656110</td>\n",
       "      <td>13.721390</td>\n",
       "      <td>56815.000000</td>\n",
       "      <td>1124.000000</td>\n",
       "      <td>2363.000000</td>\n",
       "      <td>2023-12-20 00:00:00</td>\n",
       "      <td>67.300000</td>\n",
       "      <td>318.000000</td>\n",
       "      <td>365.000000</td>\n",
       "      <td>1065.000000</td>\n",
       "    </tr>\n",
       "    <tr>\n",
       "      <th>std</th>\n",
       "      <td>4.120441e+17</td>\n",
       "      <td>1.737142e+08</td>\n",
       "      <td>5.489419</td>\n",
       "      <td>5.547656</td>\n",
       "      <td>442.982944</td>\n",
       "      <td>44.624482</td>\n",
       "      <td>87.086337</td>\n",
       "      <td>NaN</td>\n",
       "      <td>1.729449</td>\n",
       "      <td>55.781456</td>\n",
       "      <td>138.213176</td>\n",
       "      <td>22.593064</td>\n",
       "    </tr>\n",
       "  </tbody>\n",
       "</table>\n",
       "</div>"
      ],
      "text/plain": [
       "                 id       host_id      latitude     longitude         price  \\\n",
       "count  3.164800e+04  3.164800e+04  31648.000000  31648.000000  31648.000000   \n",
       "mean   3.099117e+17  1.621615e+08     46.073650      6.898237    125.661561   \n",
       "min    3.176000e+03  1.581000e+03     41.352720      2.085593      9.000000   \n",
       "25%    2.009976e+07  1.150212e+07     41.386550      2.165218     64.000000   \n",
       "50%    4.308470e+07  7.915606e+07     41.406996      2.182664    107.000000   \n",
       "75%    7.621230e+17  2.981860e+08     52.501730     13.399750    126.494083   \n",
       "max    1.049081e+18  5.510794e+08     52.656110     13.721390  56815.000000   \n",
       "std    4.120441e+17  1.737142e+08      5.489419      5.547656    442.982944   \n",
       "\n",
       "       minimum_nights  number_of_reviews                    last_review  \\\n",
       "count    31648.000000       31648.000000                          31648   \n",
       "mean        26.627844          41.093845  2022-11-09 05:31:28.270981120   \n",
       "min          1.000000           0.000000            2011-06-23 00:00:00   \n",
       "25%          2.000000           1.000000            2022-12-31 00:00:00   \n",
       "50%          4.000000           7.000000            2023-10-18 00:00:00   \n",
       "75%         32.000000          39.000000            2023-11-26 00:00:00   \n",
       "max       1124.000000        2363.000000            2023-12-20 00:00:00   \n",
       "std         44.624482          87.086337                            NaN   \n",
       "\n",
       "       reviews_per_month  calculated_host_listings_count  availability_365  \\\n",
       "count       31648.000000                    31648.000000      31648.000000   \n",
       "mean            1.012234                       23.480410        149.884069   \n",
       "min             0.000000                        1.000000          0.000000   \n",
       "25%             0.020000                        1.000000          0.000000   \n",
       "50%             0.310000                        2.000000        129.000000   \n",
       "75%             1.430000                       13.000000        285.000000   \n",
       "max            67.300000                      318.000000        365.000000   \n",
       "std             1.729449                       55.781456        138.213176   \n",
       "\n",
       "       number_of_reviews_ltm  \n",
       "count           31648.000000  \n",
       "mean               10.675683  \n",
       "min                 0.000000  \n",
       "25%                 0.000000  \n",
       "50%                 1.000000  \n",
       "75%                13.000000  \n",
       "max              1065.000000  \n",
       "std                22.593064  "
      ]
     },
     "execution_count": 324,
     "metadata": {},
     "output_type": "execute_result"
    }
   ],
   "source": [
    "bcn_ber_data.describe()"
   ]
  },
  {
   "cell_type": "markdown",
   "metadata": {},
   "source": [
    "* Notice that the maxmum price is 56815 euros, which seems an outlier. Checked all objects whose price is over 1000 euros, look into the details and found that as per their location where the price shouldn't be that high. So we drop these rows."
   ]
  },
  {
   "cell_type": "code",
   "execution_count": 326,
   "metadata": {},
   "outputs": [],
   "source": [
    "bcn_ber_data = bcn_ber_data[bcn_ber_data['price'] < 1000]"
   ]
  },
  {
   "cell_type": "code",
   "execution_count": 335,
   "metadata": {},
   "outputs": [
    {
     "data": {
      "text/html": [
       "<div>\n",
       "<style scoped>\n",
       "    .dataframe tbody tr th:only-of-type {\n",
       "        vertical-align: middle;\n",
       "    }\n",
       "\n",
       "    .dataframe tbody tr th {\n",
       "        vertical-align: top;\n",
       "    }\n",
       "\n",
       "    .dataframe thead th {\n",
       "        text-align: right;\n",
       "    }\n",
       "</style>\n",
       "<table border=\"1\" class=\"dataframe\">\n",
       "  <thead>\n",
       "    <tr style=\"text-align: right;\">\n",
       "      <th></th>\n",
       "      <th>id</th>\n",
       "      <th>host_id</th>\n",
       "      <th>latitude</th>\n",
       "      <th>longitude</th>\n",
       "      <th>price</th>\n",
       "      <th>minimum_nights</th>\n",
       "      <th>number_of_reviews</th>\n",
       "      <th>last_review</th>\n",
       "      <th>reviews_per_month</th>\n",
       "      <th>calculated_host_listings_count</th>\n",
       "      <th>availability_365</th>\n",
       "      <th>number_of_reviews_ltm</th>\n",
       "    </tr>\n",
       "  </thead>\n",
       "  <tbody>\n",
       "    <tr>\n",
       "      <th>count</th>\n",
       "      <td>3.154700e+04</td>\n",
       "      <td>3.154700e+04</td>\n",
       "      <td>31547.000000</td>\n",
       "      <td>31547.000000</td>\n",
       "      <td>31547.000000</td>\n",
       "      <td>31547.000000</td>\n",
       "      <td>31547.000000</td>\n",
       "      <td>31547</td>\n",
       "      <td>31547.000000</td>\n",
       "      <td>31547.000000</td>\n",
       "      <td>31547.000000</td>\n",
       "      <td>31547.000000</td>\n",
       "    </tr>\n",
       "    <tr>\n",
       "      <th>mean</th>\n",
       "      <td>3.101068e+17</td>\n",
       "      <td>1.621717e+08</td>\n",
       "      <td>46.081224</td>\n",
       "      <td>6.905877</td>\n",
       "      <td>113.592103</td>\n",
       "      <td>26.575332</td>\n",
       "      <td>41.168637</td>\n",
       "      <td>2022-11-09 07:01:35.956042752</td>\n",
       "      <td>1.013348</td>\n",
       "      <td>23.475323</td>\n",
       "      <td>149.691825</td>\n",
       "      <td>10.688148</td>\n",
       "    </tr>\n",
       "    <tr>\n",
       "      <th>min</th>\n",
       "      <td>3.176000e+03</td>\n",
       "      <td>1.581000e+03</td>\n",
       "      <td>41.352720</td>\n",
       "      <td>2.085593</td>\n",
       "      <td>9.000000</td>\n",
       "      <td>1.000000</td>\n",
       "      <td>0.000000</td>\n",
       "      <td>2011-06-23 00:00:00</td>\n",
       "      <td>0.000000</td>\n",
       "      <td>1.000000</td>\n",
       "      <td>0.000000</td>\n",
       "      <td>0.000000</td>\n",
       "    </tr>\n",
       "    <tr>\n",
       "      <th>25%</th>\n",
       "      <td>2.008136e+07</td>\n",
       "      <td>1.157300e+07</td>\n",
       "      <td>41.386520</td>\n",
       "      <td>2.165213</td>\n",
       "      <td>64.000000</td>\n",
       "      <td>2.000000</td>\n",
       "      <td>1.000000</td>\n",
       "      <td>2022-12-31 00:00:00</td>\n",
       "      <td>0.020000</td>\n",
       "      <td>1.000000</td>\n",
       "      <td>0.000000</td>\n",
       "      <td>0.000000</td>\n",
       "    </tr>\n",
       "    <tr>\n",
       "      <th>50%</th>\n",
       "      <td>4.306808e+07</td>\n",
       "      <td>7.911691e+07</td>\n",
       "      <td>41.407040</td>\n",
       "      <td>2.182700</td>\n",
       "      <td>106.000000</td>\n",
       "      <td>4.000000</td>\n",
       "      <td>7.000000</td>\n",
       "      <td>2023-10-18 00:00:00</td>\n",
       "      <td>0.310000</td>\n",
       "      <td>2.000000</td>\n",
       "      <td>128.000000</td>\n",
       "      <td>1.000000</td>\n",
       "    </tr>\n",
       "    <tr>\n",
       "      <th>75%</th>\n",
       "      <td>7.623296e+17</td>\n",
       "      <td>2.978854e+08</td>\n",
       "      <td>52.501772</td>\n",
       "      <td>13.399804</td>\n",
       "      <td>126.494083</td>\n",
       "      <td>32.000000</td>\n",
       "      <td>39.000000</td>\n",
       "      <td>2023-11-26 00:00:00</td>\n",
       "      <td>1.430000</td>\n",
       "      <td>13.000000</td>\n",
       "      <td>285.000000</td>\n",
       "      <td>13.000000</td>\n",
       "    </tr>\n",
       "    <tr>\n",
       "      <th>max</th>\n",
       "      <td>1.049081e+18</td>\n",
       "      <td>5.510794e+08</td>\n",
       "      <td>52.656110</td>\n",
       "      <td>13.721390</td>\n",
       "      <td>999.000000</td>\n",
       "      <td>1100.000000</td>\n",
       "      <td>2363.000000</td>\n",
       "      <td>2023-12-20 00:00:00</td>\n",
       "      <td>67.300000</td>\n",
       "      <td>318.000000</td>\n",
       "      <td>365.000000</td>\n",
       "      <td>1065.000000</td>\n",
       "    </tr>\n",
       "    <tr>\n",
       "      <th>std</th>\n",
       "      <td>4.121445e+17</td>\n",
       "      <td>1.737357e+08</td>\n",
       "      <td>5.490629</td>\n",
       "      <td>5.548868</td>\n",
       "      <td>84.586032</td>\n",
       "      <td>43.728995</td>\n",
       "      <td>87.197145</td>\n",
       "      <td>NaN</td>\n",
       "      <td>1.730992</td>\n",
       "      <td>55.797445</td>\n",
       "      <td>138.128723</td>\n",
       "      <td>22.613534</td>\n",
       "    </tr>\n",
       "  </tbody>\n",
       "</table>\n",
       "</div>"
      ],
      "text/plain": [
       "                 id       host_id      latitude     longitude         price  \\\n",
       "count  3.154700e+04  3.154700e+04  31547.000000  31547.000000  31547.000000   \n",
       "mean   3.101068e+17  1.621717e+08     46.081224      6.905877    113.592103   \n",
       "min    3.176000e+03  1.581000e+03     41.352720      2.085593      9.000000   \n",
       "25%    2.008136e+07  1.157300e+07     41.386520      2.165213     64.000000   \n",
       "50%    4.306808e+07  7.911691e+07     41.407040      2.182700    106.000000   \n",
       "75%    7.623296e+17  2.978854e+08     52.501772     13.399804    126.494083   \n",
       "max    1.049081e+18  5.510794e+08     52.656110     13.721390    999.000000   \n",
       "std    4.121445e+17  1.737357e+08      5.490629      5.548868     84.586032   \n",
       "\n",
       "       minimum_nights  number_of_reviews                    last_review  \\\n",
       "count    31547.000000       31547.000000                          31547   \n",
       "mean        26.575332          41.168637  2022-11-09 07:01:35.956042752   \n",
       "min          1.000000           0.000000            2011-06-23 00:00:00   \n",
       "25%          2.000000           1.000000            2022-12-31 00:00:00   \n",
       "50%          4.000000           7.000000            2023-10-18 00:00:00   \n",
       "75%         32.000000          39.000000            2023-11-26 00:00:00   \n",
       "max       1100.000000        2363.000000            2023-12-20 00:00:00   \n",
       "std         43.728995          87.197145                            NaN   \n",
       "\n",
       "       reviews_per_month  calculated_host_listings_count  availability_365  \\\n",
       "count       31547.000000                    31547.000000      31547.000000   \n",
       "mean            1.013348                       23.475323        149.691825   \n",
       "min             0.000000                        1.000000          0.000000   \n",
       "25%             0.020000                        1.000000          0.000000   \n",
       "50%             0.310000                        2.000000        128.000000   \n",
       "75%             1.430000                       13.000000        285.000000   \n",
       "max            67.300000                      318.000000        365.000000   \n",
       "std             1.730992                       55.797445        138.128723   \n",
       "\n",
       "       number_of_reviews_ltm  \n",
       "count           31547.000000  \n",
       "mean               10.688148  \n",
       "min                 0.000000  \n",
       "25%                 0.000000  \n",
       "50%                 1.000000  \n",
       "75%                13.000000  \n",
       "max              1065.000000  \n",
       "std                22.613534  "
      ]
     },
     "execution_count": 335,
     "metadata": {},
     "output_type": "execute_result"
    }
   ],
   "source": [
    "bcn_ber_data.describe()"
   ]
  },
  {
   "cell_type": "markdown",
   "metadata": {},
   "source": [
    "## Exploratory data analysis"
   ]
  },
  {
   "cell_type": "markdown",
   "metadata": {},
   "source": [
    "#### 1. Let's see what type of room is more popular in Barcelona and Berlin."
   ]
  },
  {
   "cell_type": "code",
   "execution_count": 336,
   "metadata": {},
   "outputs": [
    {
     "data": {
      "text/plain": [
       "room_type\n",
       "Entire home/apt    0.614417\n",
       "Private room       0.365613\n",
       "Shared room        0.011633\n",
       "Hotel room         0.008337\n",
       "Name: proportion, dtype: float64"
      ]
     },
     "execution_count": 336,
     "metadata": {},
     "output_type": "execute_result"
    }
   ],
   "source": [
    "bcn_ber_data.room_type.value_counts(normalize=True)"
   ]
  },
  {
   "cell_type": "code",
   "execution_count": 337,
   "metadata": {},
   "outputs": [
    {
     "data": {
      "text/html": [
       "<div>\n",
       "<style scoped>\n",
       "    .dataframe tbody tr th:only-of-type {\n",
       "        vertical-align: middle;\n",
       "    }\n",
       "\n",
       "    .dataframe tbody tr th {\n",
       "        vertical-align: top;\n",
       "    }\n",
       "\n",
       "    .dataframe thead th {\n",
       "        text-align: right;\n",
       "    }\n",
       "</style>\n",
       "<table border=\"1\" class=\"dataframe\">\n",
       "  <thead>\n",
       "    <tr style=\"text-align: right;\">\n",
       "      <th>room_type</th>\n",
       "      <th>Entire home/apt</th>\n",
       "      <th>Hotel room</th>\n",
       "      <th>Private room</th>\n",
       "      <th>Shared room</th>\n",
       "    </tr>\n",
       "    <tr>\n",
       "      <th>city</th>\n",
       "      <th></th>\n",
       "      <th></th>\n",
       "      <th></th>\n",
       "      <th></th>\n",
       "    </tr>\n",
       "  </thead>\n",
       "  <tbody>\n",
       "    <tr>\n",
       "      <th>Barcelona</th>\n",
       "      <td>0.586317</td>\n",
       "      <td>0.007291</td>\n",
       "      <td>0.397566</td>\n",
       "      <td>0.008826</td>\n",
       "    </tr>\n",
       "    <tr>\n",
       "      <th>Berlin</th>\n",
       "      <td>0.652939</td>\n",
       "      <td>0.009770</td>\n",
       "      <td>0.321810</td>\n",
       "      <td>0.015482</td>\n",
       "    </tr>\n",
       "  </tbody>\n",
       "</table>\n",
       "</div>"
      ],
      "text/plain": [
       "room_type  Entire home/apt  Hotel room  Private room  Shared room\n",
       "city                                                             \n",
       "Barcelona         0.586317    0.007291      0.397566     0.008826\n",
       "Berlin            0.652939    0.009770      0.321810     0.015482"
      ]
     },
     "execution_count": 337,
     "metadata": {},
     "output_type": "execute_result"
    }
   ],
   "source": [
    "pd.crosstab(bcn_ber_data['city'], bcn_ber_data['room_type'], normalize = 'index')"
   ]
  },
  {
   "cell_type": "code",
   "execution_count": 344,
   "metadata": {},
   "outputs": [
    {
     "name": "stderr",
     "output_type": "stream",
     "text": [
      "/opt/anaconda3/lib/python3.11/site-packages/seaborn/_oldcore.py:1119: FutureWarning: use_inf_as_na option is deprecated and will be removed in a future version. Convert inf values to NaN before operating instead.\n",
      "  with pd.option_context('mode.use_inf_as_na', True):\n"
     ]
    },
    {
     "data": {
      "text/plain": [
       "<Axes: xlabel='city', ylabel='Count'>"
      ]
     },
     "execution_count": 344,
     "metadata": {},
     "output_type": "execute_result"
    },
    {
     "data": {
      "image/png": "[encoded data removed]",
      "text/plain": [
       "<Figure size 640x480 with 1 Axes>"
      ]
     },
     "metadata": {},
     "output_type": "display_data"
    }
   ],
   "source": [
    "sns.histplot(\n",
    "    data=bcn_ber_data,\n",
    "    x='city',\n",
    "    hue='room_type',\n",
    "    multiple='dodge'\n",
    ")"
   ]
  },
  {
   "cell_type": "markdown",
   "metadata": {},
   "source": [
    "* We can see that entire room/apt is most popular room type((61%)), then private room(36%), only 1% are shared room and only 0.8% are hotel room. \n",
    "* The amount of entire home/apt and private room is higher than Berlin while the amount of hotel room and shared room is lower than Berlin. I guess the targeted customers of Barcelona are more like families, couples or a bunch of friends than individuals."
   ]
  },
  {
   "cell_type": "markdown",
   "metadata": {},
   "source": [
    "#### 2. Let's see the price per night of Airbnb in Barcelona and Berlin."
   ]
  },
  {
   "cell_type": "code",
   "execution_count": 361,
   "metadata": {},
   "outputs": [
    {
     "data": {
      "text/plain": [
       "Text(0.5, 0, 'room type')"
      ]
     },
     "execution_count": 361,
     "metadata": {},
     "output_type": "execute_result"
    },
    {
     "data": {
      "image/png": "[encoded data removed]",
      "text/plain": [
       "<Figure size 640x480 with 1 Axes>"
      ]
     },
     "metadata": {},
     "output_type": "display_data"
    }
   ],
   "source": [
    "sns.barplot(\n",
    "    data=bcn_ber_data, \n",
    "    x='room_type',\n",
    "    y='price',\n",
    "    hue='city'\n",
    ")\n",
    "plt.title('Barcelona and Berlin Airbnb Price')\n",
    "plt.xlabel('room type')\n"
   ]
  },
  {
   "cell_type": "markdown",
   "metadata": {},
   "source": [
    "* From the above barchart we can check the average price per night of different room types in Barcelona and Berlin. As we can see, the price of entire home/apt and shared room in Barcelona is actually higher than Berlin, where the price of private room and hotel room is cheaper. \n",
    "* I'm curious about why shared room in Barcelona is more expensive than Berlin. I checked the previous histogram related to the number of different room types, it might prove my hypothesis that the visiters for Barcelona are more tending to families, couples than individuals. This might cause the amount of shared room type in Barcelona is lower than Berlin and because of being lack of the amount, but actually there are customers who prefer this room type as this is the cheapest room type, the price actually goes higher? "
   ]
  },
  {
   "cell_type": "code",
   "execution_count": null,
   "metadata": {},
   "outputs": [],
   "source": []
  },
  {
   "cell_type": "code",
   "execution_count": null,
   "metadata": {},
   "outputs": [],
   "source": []
  }
 ],
 "metadata": {
  "c1_recart": "6.5.0-57c20131aabc1dc2a8c675852d80a7da",
  "kernelspec": {
   "display_name": "Python 3",
   "language": "python",
   "name": "python3"
  },
  "language_info": {
   "codemirror_mode": {
    "name": "ipython",
    "version": 3
   },
   "file_extension": ".py",
   "mimetype": "text/x-python",
   "name": "python",
   "nbconvert_exporter": "python",
   "pygments_lexer": "ipython3",
   "version": "3.11.7"
  }
 },
 "nbformat": 4,
 "nbformat_minor": 2
}
